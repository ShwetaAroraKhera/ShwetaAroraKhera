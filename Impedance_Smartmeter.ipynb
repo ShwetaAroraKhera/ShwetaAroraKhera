{
 "cells": [
  {
   "cell_type": "code",
   "execution_count": 1,
   "id": "313c37f4-9146-492f-8264-2fe8cc429961",
   "metadata": {
    "editable": true,
    "slideshow": {
     "slide_type": ""
    },
    "tags": []
   },
   "outputs": [],
   "source": [
    "import json\n",
    "import getpass\n",
    "import requests\n",
    "import urllib3\n",
    "from urllib.parse import urlparse\n",
    "import pandas as pd\n",
    "import numpy as np\n",
    "urllib3.disable_warnings()\n",
    "from requests.auth import HTTPBasicAuth\n",
    "from statsmodels.formula.api import ols\n",
    "from datetime import datetime \n",
    "import pytz \n",
    "tz = pytz.timezone('Pacific/Auckland')"
   ]
  },
  {
   "cell_type": "code",
   "execution_count": 2,
   "id": "51c6f63d-a9f8-4fb4-98ca-d709d9377f5c",
   "metadata": {},
   "outputs": [],
   "source": [
    "with open('work/appsettings.json') as c:\n",
    "    config = json.load(c)\n",
    "header = {\n",
    "        'content-type': 'application/json',\n",
    "        'X-Requested-With':'XmlHttpRequest'\n",
    "    }\n",
    "security_auth = HTTPBasicAuth(config['Username'], config['Password'])\n",
    "piwebapi_url = config['Resource']\n",
    "PIDATA_SERVER = config['DataArchiveName']\n",
    "AF_SERVER = config['AFServerName']\n",
    "AF_DATABASE = config['AFDatabaseName']\n",
    "elementlayer = 'SMART_METER'"
   ]
  },
  {
   "cell_type": "code",
   "execution_count": 23,
   "id": "5e7edca9-f9df-428c-b56f-d5cbb5c6ea5e",
   "metadata": {},
   "outputs": [],
   "source": [
    "from csv import writer\n",
    "\n",
    "def write_to_csv(log):\n",
    "# Open our existing CSV file in append mode\n",
    "# Create a file object for this file\n",
    "    with open('work/Imp_Output.csv', 'a') as f_object:\n",
    "     \n",
    "        # Pass this file object to csv.writer()\n",
    "        # and get a writer object\n",
    "        writer_object = writer(f_object) \n",
    "        # Pass the list as an argument into\n",
    "        # the writerow()\n",
    "        writer_object.writerow([log])\n",
    "     \n",
    "        # Close the file object\n",
    "        f_object.close()"
   ]
  },
  {
   "cell_type": "code",
   "execution_count": 4,
   "id": "2beb524f-13e7-4c8f-85ac-be82e26527aa",
   "metadata": {},
   "outputs": [],
   "source": [
    "def getelementbypath(path):\n",
    "    request_url = piwebapi_url + \"/elements?path=\" +path\n",
    "    response = requests.get(request_url, auth=security_auth, verify=False)\n",
    "    if response.status_code == 200:\n",
    "        json_data = response.json()\n",
    "        return json_data\n",
    "    else:\n",
    "        return ('Error:'+ str(response.status_code) +\"-\" + response.reason +\"-\" + response.text)"
   ]
  },
  {
   "cell_type": "code",
   "execution_count": 5,
   "id": "c8bbb116-5d34-4fe0-8741-0e61e727b8b0",
   "metadata": {},
   "outputs": [],
   "source": [
    "def getattributesbypath(path):\n",
    "    request_url = piwebapi_url + \"/attributes?path=\" +path\n",
    "    response = requests.get(request_url, auth=security_auth, verify=False)\n",
    "    if response.status_code == 200:\n",
    "        json_data = response.json() \n",
    "        return json_data\n",
    "    else:\n",
    "        return ('Error:'+ str(response.status_code) +\"-\" + response.reason +\"-\" + response.text)"
   ]
  },
  {
   "cell_type": "code",
   "execution_count": 6,
   "id": "c7272c64-a084-4e16-b52e-004c62caa412",
   "metadata": {},
   "outputs": [],
   "source": [
    "def getchildelements(parent_WebId, startindex):\n",
    "    request_url = piwebapi_url + \"/elements/\" + parent_WebId + \"/elements?selectedFields=Items.Name;Items.WebId&startIndex=\"+ str(startindex)\n",
    "    response = requests.get(request_url, auth=security_auth, verify=False)\n",
    "    if response.status_code == 200:\n",
    "        json_data = response.json()  \n",
    "        df = pd.json_normalize(json_data[\"Items\"])\n",
    "        return df\n",
    "    else:\n",
    "        return ('Error:'+ str(response.status_code) +\"-\" + response.reason +\"-\" + response.text)"
   ]
  },
  {
   "cell_type": "code",
   "execution_count": 7,
   "id": "751bbfde-dc9b-45c5-8e83-8e2823819167",
   "metadata": {
    "editable": true,
    "slideshow": {
     "slide_type": ""
    },
    "tags": []
   },
   "outputs": [],
   "source": [
    "def getpipointWebId(element_name, pipoint):\n",
    "    path = '\\\\\\\\' + AF_SERVER + '\\\\' + AF_DATABASE + '\\\\' + elementlayer + '\\\\' + element_name + '|' + pipoint\n",
    "    json= getattributesbypath(path)\n",
    "    if 'Error' in json:\n",
    "        Error_message = json\n",
    "        return Error_message\n",
    "    else:\n",
    "        pipoint_webId = json['WebId']\n",
    "        return pipoint_webId"
   ]
  },
  {
   "cell_type": "code",
   "execution_count": 8,
   "id": "9ee52bb6-e019-43a3-bc6b-467677428801",
   "metadata": {},
   "outputs": [],
   "source": [
    "## get data for the required Pi points\n",
    "def getPipointData(pipoint_webId): \n",
    "    request_url = piwebapi_url + \"/streams/\" + pipoint_webId + \"/recorded?startTime=t-1d&endTime=t&selectedFields=Items.Timestamp;Items.Value\"\n",
    "    response = requests.get(request_url, auth=security_auth, verify=False)\n",
    "    if response.status_code ==200:\n",
    "        json_data = response.json()\n",
    "        df = pd.json_normalize(json_data['Items'])\n",
    "        return df\n",
    "    else:\n",
    "        return ('Error:'+ str(response.status_code) +\"-\" + response.reason +\"-\" + response.text)"
   ]
  },
  {
   "cell_type": "code",
   "execution_count": 9,
   "id": "8160ae05-ebe0-446a-a296-d3bc2b77b075",
   "metadata": {
    "editable": true,
    "slideshow": {
     "slide_type": ""
    },
    "tags": []
   },
   "outputs": [],
   "source": [
    "def calcurrent(p, q, v):\n",
    "    return (np.sqrt((abs(p*1000)**2) + (abs(q*1000)**2)))/v"
   ]
  },
  {
   "cell_type": "code",
   "execution_count": 10,
   "id": "450ec3f9-48a5-4c3d-bec8-1fb34f569b7a",
   "metadata": {
    "editable": true,
    "slideshow": {
     "slide_type": ""
    },
    "tags": []
   },
   "outputs": [],
   "source": [
    "def calculate_current(df, metertype):\n",
    "    if metertype == '1PH1E':\n",
    "        ## Calculate current from P and Q values\n",
    "        df['_E1.Current'] = calcurrent(df['_E1.ActivePower'] , df['_E1.ReactivePower'], df['_E1.Voltage'])\n",
    "    elif metertype == '1PH2E':\n",
    "        df['_E1.Current'] = calcurrent(df['_E1.ActivePower'] , df['_E1.ReactivePower'], df['_E1.Voltage'])\n",
    "        df['_E2.Current'] = calcurrent(df['_E2.ActivePower'] , df['_E2.ReactivePower'], df['_E1.Voltage'])\n",
    "    elif metertype == '3PH':\n",
    "        df['_E1.Current'] = calcurrent(df['_E1.ActivePower'] , df['_E1.ReactivePower'], df['_E1.Voltage'])\n",
    "        df['_E2.Current'] = calcurrent(df['_E2.ActivePower'] , df['_E2.ReactivePower'], df['_E2.Voltage'])\n",
    "        df['_E3.Current'] = calcurrent(df['_E3.ActivePower'] , df['_E3.ReactivePower'], df['_E3.Voltage'])\n",
    "    return df"
   ]
  },
  {
   "cell_type": "code",
   "execution_count": 11,
   "id": "405ec859-07d5-41ba-9929-838bbdc3132c",
   "metadata": {
    "editable": true,
    "slideshow": {
     "slide_type": ""
    },
    "tags": []
   },
   "outputs": [],
   "source": [
    "def calculate_deltas(df, metertype):\n",
    "        if metertype == '1PH2E':\n",
    "            df['_E1.Current'] = df['_E1.Current']+ df['_E2.Current']\n",
    "            df['dIa'] = df[(df['period']<= 5) & ( df['_E1.ActivePower']>=0)& (df['_E1.Voltage'] >180)]['_E1.Current'].diff()\n",
    "            df['dVa'] = df[(df['period']<= 5) & ( df['_E1.ActivePower']>=0)& (df['_E1.Voltage'] >180)]['_E1.Voltage'].diff()\n",
    "        elif metertype == '3PH':\n",
    "            df['dIa'] = df[(df['period']<= 5) & ( df['_E1.ActivePower']>=0)& (df['_E1.Voltage'] >180)]['_E1.Current'].diff()\n",
    "            df['dVa'] = df[(df['period']<= 5) & ( df['_E1.ActivePower']>=0)& (df['_E1.Voltage'] >180)]['_E1.Voltage'].diff()\n",
    "            df['dIb'] = df[(df['period']<= 5) & ( df['_E2.ActivePower']>=0)& (df['_E2.Voltage'] >180)]['_E2.Current'].diff()\n",
    "            df['dVb'] = df[(df['period']<= 5) & ( df['_E2.ActivePower']>=0)& (df['_E2.Voltage'] >180)]['_E2.Voltage'].diff()\n",
    "            df['dIc'] = df[(df['period']<= 5) & ( df['_E3.ActivePower']>=0)& (df['_E3.Voltage'] >180)]['_E3.Current'].diff()\n",
    "            df['dVc'] = df[(df['period']<= 5) & ( df['_E3.ActivePower']>=0)& (df['_E3.Voltage'] >180)]['_E3.Voltage'].diff()\n",
    "        elif metertype == '1PH1E':\n",
    "            df['dIa'] = df[(df['period']<= 5) & ( df['_E1.ActivePower']>=0)& (df['_E1.Voltage'] >180)]['_E1.Current'].diff()\n",
    "            df['dVa'] = df[(df['period']<= 5) & ( df['_E1.ActivePower']>=0)& (df['_E1.Voltage'] >180)]['_E1.Voltage'].diff()       \n",
    "        df.replace([np.inf, -np.inf], 0, inplace=True)\n",
    "        return df"
   ]
  },
  {
   "cell_type": "code",
   "execution_count": 12,
   "id": "02ac048f-d48a-461d-aa77-c7b27835245a",
   "metadata": {
    "editable": true,
    "slideshow": {
     "slide_type": ""
    },
    "tags": []
   },
   "outputs": [],
   "source": [
    "def calculate_regression(df, col1, col2):\n",
    "    if len(df[(abs(df[col2]) >= 1)])< 5:\n",
    "        message = 'Sample count less than 5'\n",
    "        return message\n",
    "    else:\n",
    "        ols_formula = \"{} ~ {} -1\".format(col1.replace(\"'\",\"\"), col2.replace(\"'\",\"\"))\n",
    "        lr = ols(formula = ols_formula, data = df[(abs(df[col2]) >= 1)]).fit()\n",
    "        Slope = lr.params.iloc[0]\n",
    "        return Slope"
   ]
  },
  {
   "cell_type": "code",
   "execution_count": 13,
   "id": "a51230a3-6104-4ddd-b985-c4d13b8e7e55",
   "metadata": {},
   "outputs": [],
   "source": [
    "def is_float(string):\n",
    "    try:\n",
    "        float(string)\n",
    "        return True\n",
    "    except ValueError:\n",
    "        return False"
   ]
  },
  {
   "cell_type": "code",
   "execution_count": 14,
   "id": "6d06bb00-289d-4b9f-be14-3ab86ed6efde",
   "metadata": {
    "editable": true,
    "slideshow": {
     "slide_type": ""
    },
    "tags": []
   },
   "outputs": [],
   "source": [
    "def postPIPointValue(PIPointWebID, body):\n",
    "    header = {\n",
    "        'content-type': 'application/json',\n",
    "        'X-Requested-With':'XmlHttpRequest'\n",
    "    }\n",
    "    PostPIPointurl = piwebapi_url + \"/streams/\" + PIPointWebID + \"/value\" \n",
    "    post_response = requests.post(PostPIPointurl, auth=security_auth, verify=False, json=body, headers=header)\n",
    "    return post_response"
   ]
  },
  {
   "cell_type": "code",
   "execution_count": 24,
   "id": "1d126357-efd0-4562-988e-5db542143063",
   "metadata": {},
   "outputs": [],
   "source": [
    "## get the count of smart meters from the smart_meter layer attribute\n",
    "path=\"\\\\\\\\\" + AF_SERVER + \"\\\\\" + AF_DATABASE + \"\\\\\"+ elementlayer+ \"|SmartMeterCount\"\n",
    "try:\n",
    "    count_attr = getattributesbypath(path)\n",
    "    if 'Error' in count_attr:\n",
    "        log = \"SmartMeterCount Attribute not found:\" + count_attr\n",
    "        write_to_csv(log)\n",
    "    else:\n",
    "        url = urlparse(piwebapi_url + '/attributes/' + count_attr['WebId'] + '/value')\n",
    "        response = requests.get(url.geturl(),auth=security_auth, verify=False)\n",
    "        if response.status_code == 200:\n",
    "            count_json = response.json()\n",
    "            count_value = count_json['Value']\n",
    "        else: \n",
    "            log = \"SmartMeterCount Attribute Value:\"+ 'Error:'+ str(response.status_code) +\"-\" + response.reason +\"-\" + response.text\n",
    "            write_to_csv(log)\n",
    "except:\n",
    "    log = \"Connection Error- Process Stopped\"\n",
    "    write_to_csv(log)"
   ]
  },
  {
   "cell_type": "code",
   "execution_count": 25,
   "id": "5bb37329-ca02-4a12-a3a9-a9cada229091",
   "metadata": {},
   "outputs": [],
   "source": [
    "## get the parent WebID (for smart meter layer) for extracting list of child elements(meters)\n",
    "path=\"\\\\\\\\\" + AF_SERVER + \"\\\\\" + AF_DATABASE + \"\\\\\"+ elementlayer\n",
    "try:\n",
    "    d = getelementbypath(path)\n",
    "    if 'error' in d:\n",
    "       log = \" WebId for smartmeter layer not Found:\" + d\n",
    "       write_to_csv(log) \n",
    "    else:\n",
    "        parent_WebId = d['WebId']\n",
    "        ## extract all elements/smart meters names and webIDs into a dataframe\n",
    "        meter_df = pd.DataFrame()\n",
    "        for i in range(0, count_value,1000):\n",
    "            elem_df = getchildelements(parent_WebId, i)\n",
    "            if 'Error' in elem_df:\n",
    "                log = \"Meter elements not extracted:\" + elem_df\n",
    "                write_to_csv(log)\n",
    "            else:\n",
    "                meter_df = pd.concat( [meter_df, elem_df], axis= 0, ignore_index=True) \n",
    "except:\n",
    "    log = \"Connection Error- Process Stopped\"\n",
    "    write_to_csv(log)"
   ]
  },
  {
   "cell_type": "code",
   "execution_count": 17,
   "id": "8c7be254-8c14-4f76-92df-2b1aceaf97bd",
   "metadata": {
    "editable": true,
    "slideshow": {
     "slide_type": ""
    },
    "tags": []
   },
   "outputs": [],
   "source": [
    "def calculateimpedance(element_name):\n",
    "    ## get metertype or config\n",
    "    path = \"\\\\\\\\\" + AF_SERVER + \"\\\\\" + AF_DATABASE + \"\\\\\"+ elementlayer + \"\\\\\" + element_name + \"|MeterConfiguration\"\n",
    "    metertype_attr = getattributesbypath(path)\n",
    "    if 'Error' in metertype_attr:\n",
    "        log  = \"Meter type attribute not found:\" + element_name\n",
    "        write_to_csv(log)\n",
    "    else:\n",
    "        url = urlparse(piwebapi_url + '/streams/' + metertype_attr['WebId'] + '/value')\n",
    "        response = requests.get(url.geturl(),auth=security_auth, verify=False)\n",
    "        if response.status_code == 200:\n",
    "            meter_json = response.json()\n",
    "            metertype = meter_json['Value']\n",
    "        else: \n",
    "            log = 'Meter type Value Error for:'+ element_name  + ':' + str(response.status_code) +\"-\" + response.reason +\"-\" + response.text\n",
    "            write_to_csv(log)\n",
    "     ## get data for pi tags based on the meter type\n",
    "    if metertype =='1PH1E':\n",
    "        point_list = ['_E1.ActivePower', '_E1.Voltage',  '_E1.ReactivePower']\n",
    "        df_pipointdata= pd.DataFrame()\n",
    "        for pipoint in point_list:\n",
    "            pipoint_webId = getpipointWebId(element_name, pipoint)\n",
    "            if 'Error' in pipoint_webId:\n",
    "                log = \"Missing PI tag for  :\" + element_name+ pipoint\n",
    "                write_to_csv(log)\n",
    "            else:\n",
    "                df_pidata = getPipointData(pipoint_webId)\n",
    "                df_pidata['pipoint'] = pipoint\n",
    "                if not df_pidata.empty:\n",
    "                   df_pipointdata= pd.concat([df_pipointdata, df_pidata], axis= 0, ignore_index=True)\n",
    "        if df_pipointdata.empty:\n",
    "            log = 'No recent data available for: '+ element_name\n",
    "            write_to_csv(log)\n",
    "        else:\n",
    "            df_pipointdata['Timestamp'] = pd.to_datetime(df_pipointdata['Timestamp'], utc=True).dt.tz_convert('Pacific/Auckland').dt.strftime('%Y-%m-%d %H:%M:00')\n",
    "            df_pipointdata['meter'] =   element_name\n",
    "            df_pipointdata['metertype'] = metertype\n",
    "            df_pipointdata = df_pipointdata.drop_duplicates(['pipoint','Timestamp'], keep='last')\n",
    "            if \"Errors\" in df_pipointdata.columns:\n",
    "                log = \"No data available for:  \"+element_name\n",
    "                write_to_csv(log)\n",
    "            else:\n",
    "                df_data = pd.pivot(df_pipointdata, values = 'Value', index = ['meter', 'Timestamp', 'metertype'], columns = ['pipoint']).reset_index()\n",
    "                if np.isin(point_list, df_data.columns).all():\n",
    "                    df_data = df_data.sort_values(by='Timestamp', ascending=True).reset_index(drop=True)\n",
    "                    df_data['Timestamp'] = pd.to_datetime(df_data['Timestamp'])\n",
    "                    df_data = calculate_current(df_data, metertype)\n",
    "                    df_data['period'] = ((df_data['Timestamp'].diff())/ np.timedelta64(1,'m')).fillna(0)\n",
    "                    df_d = calculate_deltas(df_data, metertype)\n",
    "                    E_Imp = calculate_regression(df_d, 'dVa', 'dIa')\n",
    "                    imp_pipoint = '_E1.ImpedanceMaxCalc'\n",
    "                    path = \"\\\\\\\\\"+ PIDATA_SERVER +\"\\\\\"+ element_name + imp_pipoint\n",
    "                    point_resp = getattributesbypath(path)\n",
    "                    if \"Error\" in point_resp:\n",
    "                        log = \"Impedance tag not found for \" + element_name + imp_pipoint\n",
    "                        write_to_csv(log)\n",
    "                    else:\n",
    "                        PointWebID = point_resp['WebId']\n",
    "                        if is_float(E_Imp)==True:\n",
    "                            body = {\"Timestamp\": tz.localize(pd.to_datetime(df_data['Timestamp'].max().strftime('%Y-%m-%d 23:55:00')), is_dst=None).astimezone('utc').strftime('%Y-%m-%dT%H:%M:%SZ'), \"Value\": round(abs(E_Imp),2), \"Good\": True}\n",
    "                            postresponse = postPIPointValue(PointWebID, body)\n",
    "                            if postresponse.status_code == 202:\n",
    "                               log =   \"Impedance Calculated for \" + element_name + \"_E1 date: \" +df_data['Timestamp'].max().strftime('%Y-%m-%d 23:55:00')\n",
    "                               write_to_csv(log)\n",
    "                            else:\n",
    "                                log = \"Error in posting Impedance Value for \" + element_name + \"_E1 date: \" +df_data['Timestamp'].max().strftime('%Y-%m-%d 23:55:00')\n",
    "                                write_to_csv(log)\n",
    "                        else:\n",
    "                            log = \"Impedance not calculated for \" +element_name +\"_E1 date: \" +df_data['Timestamp'].max().strftime('%Y-%m-%d 23:55:00') +\" :\" + E_Imp\n",
    "                            write_to_csv(log)\n",
    "                else:\n",
    "                    log = \"Missing PI tags for  :\" + element_name\n",
    "                    write_to_csv(log)\n",
    "    elif metertype =='1PH2E':\n",
    "        point_list = ['_E1.ActivePower','_E2.ActivePower', '_E1.Voltage',  '_E1.ReactivePower', '_E2.ReactivePower']\n",
    "        df_pipointdata= pd.DataFrame()\n",
    "        for pipoint in point_list:\n",
    "            pipoint_webId = getpipointWebId(element_name, pipoint)\n",
    "            if 'Error' in pipoint_webId:\n",
    "                log = \"Missing PI tag for  :\" + element_name+ pipoint\n",
    "                write_to_csv(log)\n",
    "            else:\n",
    "                df_pidata = getPipointData(pipoint_webId)\n",
    "                df_pidata['pipoint'] = pipoint\n",
    "                if not df_pidata.empty:\n",
    "                   df_pipointdata= pd.concat([df_pipointdata, df_pidata], axis= 0, ignore_index=True)\n",
    "        if df_pipointdata.empty:\n",
    "            log= 'No recent data available for: '+ element_name\n",
    "            write_to_csv(log)\n",
    "        else:\n",
    "            df_pipointdata['Timestamp'] = pd.to_datetime(df_pipointdata['Timestamp'], utc=True).dt.tz_convert('Pacific/Auckland').dt.strftime('%Y-%m-%d %H:%M:00')\n",
    "            df_pipointdata['meter'] =   element_name\n",
    "            df_pipointdata['metertype'] = metertype\n",
    "            df_pipointdata = df_pipointdata.drop_duplicates(['pipoint','Timestamp'], keep='last')\n",
    "            if \"Errors\" in df_pipointdata.columns:\n",
    "                log = \"No data available for:  \"+element_name\n",
    "                write_to_csv(log)\n",
    "            else:\n",
    "                df_data = pd.pivot(df_pipointdata, values = 'Value', index = ['meter', 'Timestamp', 'metertype'], columns = ['pipoint']).reset_index()\n",
    "                if np.isin(point_list, df_data.columns).all():\n",
    "                    df_data = df_data.sort_values(by='Timestamp', ascending=True).reset_index(drop=True)\n",
    "                    df_data['Timestamp'] = pd.to_datetime(df_data['Timestamp'])\n",
    "                    df_data = calculate_current(df_data, metertype)\n",
    "                    df_data['period'] = ((df_data['Timestamp'].diff())/ np.timedelta64(1,'m')).fillna(0)\n",
    "                    df_d = calculate_deltas(df_data, metertype)\n",
    "                    E_Imp = calculate_regression(df_d, 'dVa', 'dIa')\n",
    "                    imp_pipoint = '_E1.ImpedanceMaxCalc'\n",
    "                    path = \"\\\\\\\\\"+ PIDATA_SERVER +\"\\\\\"+ element_name + imp_pipoint\n",
    "                    point_resp = getattributesbypath(path)\n",
    "                    if \"Error\" in point_resp:\n",
    "                        log = \"Impedance tag not found for \" + element_name + imp_pipoint\n",
    "                        write_to_csv(log)\n",
    "                    else:\n",
    "                        PointWebID = point_resp['WebId']\n",
    "                        if is_float(E_Imp)==True:\n",
    "                            body = {\"Timestamp\": tz.localize(pd.to_datetime(df_data['Timestamp'].max().strftime('%Y-%m-%d 23:55:00')), is_dst=None).astimezone('utc').strftime('%Y-%m-%dT%H:%M:%SZ'), \"Value\": round(abs(E_Imp),2), \"Good\": True}\n",
    "                            postresponse = postPIPointValue(PointWebID, body)\n",
    "                            if postresponse.status_code == 202:\n",
    "                               log = \"Impedance Calculated for \" + element_name + \"_E1 date: \" +df_data['Timestamp'].max().strftime('%Y-%m-%d 23:55:00')\n",
    "                               write_to_csv(log)\n",
    "                            else:\n",
    "                                log =\"Error in posting Impedance Value for \" + element_name + \"_E1 date: \" +df_data['Timestamp'].max().strftime('%Y-%m-%d 23:55:00')\n",
    "                                write_to_csv(log)\n",
    "                        else:\n",
    "                            log = \"Impedance not calculated for \" +element_name +\"_E1 date: \" +df_data['Timestamp'].max().strftime('%Y-%m-%d 23:55:00') +\" :\" + E_Imp\n",
    "                            write_to_csv(log)\n",
    "                else:\n",
    "                    log = \"Missing PI tags for  :\" + element_name\n",
    "                    write_to_csv(log)\n",
    "    elif metertype =='3PH':    \n",
    "        point_list = ['_E1.ActivePower','_E2.ActivePower','_E3.ActivePower', '_E1.Voltage', '_E2.Voltage','_E3.Voltage', '_E1.ReactivePower', '_E2.ReactivePower', '_E3.ReactivePower']\n",
    "        df_pipointdata= pd.DataFrame()\n",
    "        for pipoint in point_list:\n",
    "            pipoint_webId = getpipointWebId(element_name, pipoint)\n",
    "            if 'Error' in pipoint_webId:\n",
    "                log = \"Missing PI tag for  :\" + element_name+ pipoint\n",
    "                write_to_csv(log)\n",
    "            else:\n",
    "                df_pidata = getPipointData(pipoint_webId)\n",
    "                df_pidata['pipoint'] = pipoint\n",
    "                if not df_pidata.empty:\n",
    "                   df_pipointdata= pd.concat([df_pipointdata, df_pidata], axis= 0, ignore_index=True)\n",
    "        if df_pipointdata.empty:\n",
    "            log = 'No recent data available for: '+ element_name\n",
    "            write_to_csv(log)\n",
    "        else:\n",
    "            df_pipointdata['Timestamp'] = pd.to_datetime(df_pipointdata['Timestamp'], utc=True).dt.tz_convert('Pacific/Auckland').dt.strftime('%Y-%m-%d %H:%M:00')\n",
    "            df_pipointdata['meter'] =   element_name\n",
    "            df_pipointdata['metertype'] = metertype\n",
    "            df_pipointdata = df_pipointdata.drop_duplicates(['pipoint','Timestamp'], keep='last')\n",
    "            if \"Errors\" in df_pipointdata.columns:\n",
    "                log = \"No data available for:  \"+element_name\n",
    "                write_to_csv(log)\n",
    "            else:\n",
    "                df_data = pd.pivot(df_pipointdata, values = 'Value', index = ['meter', 'Timestamp', 'metertype'], columns = ['pipoint']).reset_index()\n",
    "                if np.isin(point_list, df_data.columns).all():\n",
    "                    df_data = df_data.sort_values(by='Timestamp', ascending=True).reset_index(drop=True)\n",
    "                    df_data['Timestamp'] = pd.to_datetime(df_data['Timestamp'])\n",
    "                    df_data = calculate_current(df_data, metertype)\n",
    "                    df_data['period'] = ((df_data['Timestamp'].diff())/ np.timedelta64(1,'m')).fillna(0)\n",
    "                    df_d = calculate_deltas(df_data, metertype)\n",
    "                    E_Imp = calculate_regression(df_d, 'dVa', 'dIa')\n",
    "                    imp_pipoint = '_E1.ImpedanceMaxCalc'\n",
    "                    path = \"\\\\\\\\\"+ PIDATA_SERVER +\"\\\\\"+ element_name + imp_pipoint\n",
    "                    point_resp = getattributesbypath(path)\n",
    "                    if \"Error\" in point_resp:\n",
    "                        log = \"Impedance tag not found for \" + element_name + imp_pipoint\n",
    "                        write_to_csv(log)\n",
    "                    else:\n",
    "                        PointWebID = point_resp['WebId']\n",
    "                        if is_float(E_Imp)==True:\n",
    "                            body = {\"Timestamp\": tz.localize(pd.to_datetime(df_data['Timestamp'].max().strftime('%Y-%m-%d 23:55:00')), is_dst=None).astimezone('utc').strftime('%Y-%m-%dT%H:%M:%SZ'), \"Value\": round(abs(E_Imp),2), \"Good\": True}\n",
    "                            postresponse = postPIPointValue(PointWebID, body)\n",
    "                            if postresponse.status_code == 202:\n",
    "                               log = \"Impedance Calculated for \" + element_name + \"_E1 date: \" +df_data['Timestamp'].max().strftime('%Y-%m-%d 23:55:00')\n",
    "                               write_to_csv(log)\n",
    "                            else:\n",
    "                                log = \"Error in posting Impedance Value for \" + element_name + \"_E1 date: \" +df_data['Timestamp'].max().strftime('%Y-%m-%d 23:55:00')\n",
    "                                write_to_csv(log)\n",
    "                        else:\n",
    "                            log = \"Impedance not calculated for \" +element_name +\"_E1 date: \" +df_data['Timestamp'].max().strftime('%Y-%m-%d 23:55:00') +\" :\" + E_Imp\n",
    "                            write_to_csv(log)\n",
    "                    E_Imp = calculate_regression(df_d, 'dVb', 'dIb')\n",
    "                    imp_pipoint = '_E2.ImpedanceMaxCalc'\n",
    "                    path = \"\\\\\\\\\"+ PIDATA_SERVER +\"\\\\\"+ element_name + imp_pipoint\n",
    "                    point_resp = getattributesbypath(path)\n",
    "                    if \"Error\" in point_resp:\n",
    "                        log = \"Impedance tag not found for \" + element_name + imp_pipoint\n",
    "                        write_to_csv(log)\n",
    "                    else:\n",
    "                        PointWebID = point_resp['WebId']\n",
    "                        if is_float(E_Imp)==True:\n",
    "                            body = {\"Timestamp\": tz.localize(pd.to_datetime(df_data['Timestamp'].max().strftime('%Y-%m-%d 23:55:00')), is_dst=None).astimezone('utc').strftime('%Y-%m-%dT%H:%M:%SZ'), \"Value\": round(abs(E_Imp),2), \"Good\": True}\n",
    "                            postresponse = postPIPointValue(PointWebID, body)\n",
    "                            if postresponse.status_code == 202:\n",
    "                               log = \"Impedance Calculated for \" + element_name + \"_E2 date: \" +df_data['Timestamp'].max().strftime('%Y-%m-%d 23:55:00')\n",
    "                               write_to_csv(log)\n",
    "                            else:\n",
    "                                log = \"Error in posting Impedance Value for \" + element_name + \"_E2 date: \" +df_data['Timestamp'].max().strftime('%Y-%m-%d 23:55:00')\n",
    "                                write_to_csv(log)\n",
    "                        else:\n",
    "                            log = \"Impedance not calculated for \" +element_name +\"_E2 date: \" +df_data['Timestamp'].max().strftime('%Y-%m-%d 23:55:00') +\" :\" + E_Imp\n",
    "                            write_to_csv(log)\n",
    "                    E_Imp = calculate_regression(df_d, 'dVc', 'dIc')\n",
    "                    imp_pipoint = '_E3.ImpedanceMaxCalc'\n",
    "                    path = \"\\\\\\\\\"+ PIDATA_SERVER +\"\\\\\"+ element_name + imp_pipoint\n",
    "                    point_resp = getattributesbypath(path)\n",
    "                    if \"Error\" in point_resp:\n",
    "                        log =\"Impedance tag not found for \" + element_name + imp_pipoint\n",
    "                        write_to_csv(log)\n",
    "                    else:\n",
    "                        PointWebID = point_resp['WebId']\n",
    "                        if is_float(E_Imp)==True:\n",
    "                            body = {\"Timestamp\": tz.localize(pd.to_datetime(df_data['Timestamp'].max().strftime('%Y-%m-%d 23:55:00')), is_dst=None).astimezone('utc').strftime('%Y-%m-%dT%H:%M:%SZ'), \"Value\":round(abs(E_Imp),2), \"Good\": True}\n",
    "                            postresponse = postPIPointValue(PointWebID, body)\n",
    "                            if postresponse.status_code == 202:\n",
    "                               log  = \"Impedance Calculated for \" + element_name + \"_E3 date: \" +df_data['Timestamp'].max().strftime('%Y-%m-%d 23:55:00')\n",
    "                               write_to_csv(log)\n",
    "                            else:\n",
    "                                log =  \"Error in posting Impedance Value for \" + element_name + \"_E3 date: \" +df_data['Timestamp'].max().strftime('%Y-%m-%d 23:55:00')\n",
    "                                write_to_csv(log)\n",
    "                        else:\n",
    "                            log = \"Impedance not calculated for \" +element_name +\"_E3 date: \" +df_data['Timestamp'].max().strftime('%Y-%m-%d 23:55:00') +\" :\" + E_Imp\n",
    "                            write_to_csv(log)\n",
    "                else:\n",
    "                    log = \"Missing PI tags for  :\" + element_name\n",
    "                    write_to_csv(log)\n",
    "    else:\n",
    "        log =\"Invalid metertype for: \"+ element_name\n",
    "        write_to_csv(log)\n",
    "        "
   ]
  },
  {
   "cell_type": "code",
   "execution_count": 18,
   "id": "591c7224-de7a-4896-b6c3-82b026fed42e",
   "metadata": {},
   "outputs": [
    {
     "data": {
      "text/plain": [
       "71000"
      ]
     },
     "execution_count": 18,
     "metadata": {},
     "output_type": "execute_result"
    }
   ],
   "source": [
    "#meter_df[meter_df['Name']== 'meter.']\n",
    "#test_list= meter_df.iloc[57665:57680]['Name'].to_list()\n",
    "list = meter_df['Name'].to_list()\n",
    "len(list)"
   ]
  },
  {
   "cell_type": "code",
   "execution_count": 19,
   "id": "3aa61b78-32d6-4690-94a4-7950d6385f5d",
   "metadata": {},
   "outputs": [],
   "source": [
    "import concurrent.futures\n",
    "from concurrent.futures import ThreadPoolExecutor, ProcessPoolExecutor\n",
    "from concurrent.futures import wait\n",
    "from time import time\n",
    "import asyncio\n",
    "import multiprocessing"
   ]
  },
  {
   "cell_type": "code",
   "execution_count": 20,
   "id": "511fcc9b-5e0a-4482-8224-5e771bd227be",
   "metadata": {},
   "outputs": [
    {
     "data": {
      "text/plain": [
       "\"\\nstart = time()\\nlog = 'Time started: ' + str(start)\\nwrite_to_csv([log])\\n\\nwith ThreadPoolExecutor(max_workers=10) as executor:\\n    executor.map(calculateimpedance, list)\\n\\nexecutor.shutdown(wait=True, cancel_futures=False)\\n\\nlog = 'Time taken: ' + str(time() - start)\\nwrite_to_csv([log])\\n\""
      ]
     },
     "execution_count": 20,
     "metadata": {},
     "output_type": "execute_result"
    }
   ],
   "source": [
    "'''\n",
    "start = time()\n",
    "log = 'Time started: ' + str(start)\n",
    "write_to_csv([log])\n",
    "\n",
    "with ThreadPoolExecutor(max_workers=10) as executor:\n",
    "    executor.map(calculateimpedance, list)\n",
    "\n",
    "executor.shutdown(wait=True, cancel_futures=False)\n",
    "\n",
    "log = 'Time taken: ' + str(time() - start)\n",
    "write_to_csv([log])\n",
    "'''"
   ]
  },
  {
   "cell_type": "code",
   "execution_count": 21,
   "id": "db38ced0-aed7-4569-b27b-9985342c6c9d",
   "metadata": {},
   "outputs": [],
   "source": [
    "def parallel_processing(list, pool_size):\n",
    "    # Create a multiprocessing pool\n",
    "    pool = multiprocessing.Pool(pool_size)\n",
    "\n",
    "    # Use the map function to distribute the work to the pool of processes\n",
    "    results = pool.map(calculateimpedance, list)\n",
    "\n",
    "    # Close the pool and wait for all tasks to complete\n",
    "    pool.close()\n",
    "    #pool.join()\n",
    "    return results"
   ]
  },
  {
   "cell_type": "code",
   "execution_count": null,
   "id": "510d68d4-8a4e-45a1-95a3-5acf95cdf372",
   "metadata": {},
   "outputs": [],
   "source": [
    "if __name__ == \"__main__\":\n",
    "    # Specify the number of processes to use (adjust according to your CPU cores)\n",
    "    pool_size = multiprocessing.cpu_count()\n",
    "    # Perform the parallel processing\n",
    "    results = parallel_processing(list, 10)"
   ]
  },
  {
   "cell_type": "code",
   "execution_count": null,
   "id": "1e96f558-053d-4203-99d1-af5eb5cb7c30",
   "metadata": {},
   "outputs": [],
   "source": []
  }
 ],
 "metadata": {
  "kernelspec": {
   "display_name": "Python 3 (ipykernel)",
   "language": "python",
   "name": "python3"
  },
  "language_info": {
   "codemirror_mode": {
    "name": "ipython",
    "version": 3
   },
   "file_extension": ".py",
   "mimetype": "text/x-python",
   "name": "python",
   "nbconvert_exporter": "python",
   "pygments_lexer": "ipython3",
   "version": "3.11.6"
  }
 },
 "nbformat": 4,
 "nbformat_minor": 5
}
