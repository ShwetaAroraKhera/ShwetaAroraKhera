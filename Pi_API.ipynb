{
 "cells": [
  {
   "cell_type": "code",
   "execution_count": 1,
   "id": "75cec5f8-3ef8-4bab-80b1-230c54c77dda",
   "metadata": {
    "editable": true,
    "slideshow": {
     "slide_type": ""
    },
    "tags": []
   },
   "outputs": [],
   "source": [
    "import json\n",
    "import getpass\n",
    "import requests\n",
    "import pandas as pd\n",
    "import numpy as np\n",
    "import urllib3\n",
    "import datetime\n",
    "import dateutil.parser\n",
    "import sklearn\n",
    "import matplotlib\n",
    "import types\n",
    "import uuid\n",
    "import io\n",
    "\n",
    "urllib3.disable_warnings()\n",
    "from requests.auth import HTTPBasicAuth\n",
    "\n",
    "from sklearn import linear_model\n",
    "from sklearn.model_selection import train_test_split \n",
    "from sklearn import neighbors\n",
    "from matplotlib import pyplot as plt"
   ]
  },
  {
   "cell_type": "code",
   "execution_count": 2,
   "id": "d06eb391-bf1b-4af9-b70f-9560dfc6fbd9",
   "metadata": {
    "editable": true,
    "slideshow": {
     "slide_type": ""
    },
    "tags": []
   },
   "outputs": [
    {
     "name": "stdout",
     "output_type": "stream",
     "text": [
      "F1RDHkW0geEhXE-8JFJzbujJVgYUy995KW50iSI5oGHKtY2ARFNPLURFVi1BRjAxXE5FVFdPUks\n",
      "F1DSN_aprwPEz0Cukryh4byYPARFNPLURFVi1QSTAx\n"
     ]
    }
   ],
   "source": [
    "# This cell does most of the data obtaining and cleanup work. It first connects to the PI System via PI Web API \n",
    "# using basic/kerberos authentication where in it gets maximum 1000 eventframes which fit our criteria. \n",
    "\n",
    "\n",
    "\"\"\" Create API call security method\n",
    "        @param security_method string:  security method to use:  basic or kerberos\n",
    "        @param user_name string: The user's credentials name\n",
    "        @param user_password string: The user's credentials password\n",
    "\"\"\"\n",
    "def read_config():\n",
    "    with open('appsettings.json') as c:\n",
    "        config = json.load(c)\n",
    "    return config\n",
    "        \n",
    "def call_security_method(security_method, user_name, user_password):\n",
    "    \n",
    "    if security_method.lower() == 'basic':\n",
    "        security_auth = HTTPBasicAuth(user_name, user_password)\n",
    "        \n",
    "    return security_auth\n",
    "\n",
    "\"\"\" Method to send HTTP GET requests\n",
    "        @param query:  query string to execute\n",
    "        Also uses the appsettings.json file to read the username and password for Basic Authentication\n",
    "\"\"\"\n",
    "def get(query):\n",
    "    \n",
    "    data = read_config()\n",
    "    username = data['Username']\n",
    "    password = data['Password']\n",
    "    securitymethod = data.get('AuthType', 'basic')\n",
    "    verify_ssl = data.get('VerifySSL', False)\n",
    "    \n",
    "    security_auth = call_security_method(securitymethod, username, password)\n",
    "    response = requests.get(query, auth=security_auth, verify=verify_ssl)\n",
    "    return response\n",
    "\n",
    "\"\"\" Method to send HTTP POST requests\n",
    "        @param query:  query string to execute\n",
    "        @param body: body of the request \n",
    "        Also uses the appsettings.json file to read the username and password for Basic Authentication\n",
    "\"\"\"\n",
    "def post(query, body):\n",
    "    \n",
    "    header = {\n",
    "        'content-type': 'application/json',\n",
    "        'X-Requested-With':'XmlHttpRequest'\n",
    "    }\n",
    "    \n",
    "    data = read_config()\n",
    "    username = data['Username']\n",
    "    password = data['Password']\n",
    "    securitymethod = data.get('AuthType', 'basic')\n",
    "    verify_ssl = data.get('VerifySSL', False)\n",
    "    \n",
    "    security_auth = call_security_method(securitymethod, username, password)\n",
    "    response = requests.post(query, auth=security_auth, verify=verify_ssl, json=body, headers=header)\n",
    "    return response\n",
    "\n",
    "\"\"\" Method to send HTTP DELETE requests\n",
    "        @param query:  query string to execute\n",
    "        Also uses the appsettings.json file to read the username and password for Basic Authentication\n",
    "\"\"\"\n",
    "def delete(query):\n",
    "    data = read_config()\n",
    "    username = data['Username']\n",
    "    password = data['Password']\n",
    "    securitymethod = data.get('AuthType', 'basic')\n",
    "    verify_ssl = data.get('VerifySSL', False)\n",
    "\n",
    "    security_auth = call_security_method(securitymethod, username, password)\n",
    "    response = requests.delete(query, auth=security_auth, verify=verify_ssl)\n",
    "    return response\n",
    "\n",
    "\"\"\" Method to get the database web ID of a given database path\n",
    "        @param path: path of the database. More info can be found here: https://your-server/piwebapi/help/topics/path-syntax\n",
    "\"\"\"\n",
    "def getAFDatabaseWebID(path):\n",
    "    data = read_config()\n",
    "    piwebapi_url = data['Resource']\n",
    "    getAFDBQuery = piwebapi_url + \"/assetdatabases?path=\" + path  \n",
    "    AFDB = json.loads(get(getAFDBQuery).text)\n",
    "    return AFDB['WebId']\n",
    "\n",
    "def getPIDatabaseWebID(path):\n",
    "    data = read_config()\n",
    "    piwebapi_url = data['Resource']\n",
    "    getPIQuery = piwebapi_url + \"/dataservers?path=\" + path  \n",
    "    PI = json.loads(get(getPIQuery).text)\n",
    "    return PI['WebId']\n",
    "\n",
    "def getPIPointWebID(pipoint):\n",
    "    data = read_config()\n",
    "    piwebapi_url = data['Resource']\n",
    "    getPIPointQuery = piwebapi_url + \"/points?path=\" + pipoint  \n",
    "    PIPoint = json.loads(get(getPIPointQuery).text)\n",
    "    return PIPoint['WebId']\n",
    "\n",
    "def getPIPointHistory(path):\n",
    "    data = read_config()\n",
    "    piwebapi_url = data['Resource']\n",
    "    GetPIPointQuery = piwebapi_url + \"/streams/\" + path   \n",
    "    GPIPoint = get(GetPIPointQuery)\n",
    "    GPIPointdata = json.loads(GPIPoint.text)\n",
    "    return GPIPointdata\n",
    "\n",
    "\n",
    "def postPIPointValue(path, body):\n",
    "    data = read_config()\n",
    "    piwebapi_url = data['Resource']\n",
    "    PostPIPointQuery = piwebapi_url + \"/streams/\" + path + \"/value\" \n",
    "    #print(PostPIPointQuery)\n",
    "    post_response = post(PostPIPointQuery, body)\n",
    "    return post_response\n",
    "\n",
    "def postPIPointTag(path, body):\n",
    "    data = read_config()\n",
    "    piwebapi_url = data['Resource']\n",
    "    PostPIPoint = piwebapi_url + \"/dataservers/\" + path + \"/points\" \n",
    "    #print(PostPIPointQuery)\n",
    "    post_response = post(PostPIPoint, body)\n",
    "    return post_response\n",
    "\n",
    "#get AFdatabase WebID\n",
    "data = read_config()\n",
    "databasePath = \"\\\\\\\\\" + data['AFServerName'] + \"\\\\\" + data['AFDatabaseName']\n",
    "AFdatabaseWebID = getAFDatabaseWebID(databasePath)\n",
    "#Use this ID to make subsequent Calls to AF Database\n",
    "print(AFdatabaseWebID)\n",
    "\n",
    "#Get PI Database WebID\n",
    "archivePath = \"\\\\\\\\PIServers\" + \"[\" + data['DataArchiveName'] + \"]\"\n",
    "PIdatabaseWebID = getPIDatabaseWebID(archivePath)\n",
    "#Use this ID to make subsequent Calls to PI Database\n",
    "print(PIdatabaseWebID)"
   ]
  },
  {
   "cell_type": "code",
   "execution_count": 3,
   "id": "ad6d6931-039d-4c08-b1b6-b3cf699034d9",
   "metadata": {
    "editable": true,
    "slideshow": {
     "slide_type": ""
    },
    "tags": []
   },
   "outputs": [
    {
     "ename": "KeyError",
     "evalue": "'WebId'",
     "output_type": "error",
     "traceback": [
      "\u001b[0;31m---------------------------------------------------------------------------\u001b[0m",
      "\u001b[0;31mKeyError\u001b[0m                                  Traceback (most recent call last)",
      "Cell \u001b[0;32mIn[3], line 10\u001b[0m\n\u001b[1;32m      8\u001b[0m pipoint \u001b[38;5;241m=\u001b[39m \u001b[38;5;124m\"\u001b[39m\u001b[38;5;124mmeter.10001002_E1.Current\u001b[39m\u001b[38;5;124m\"\u001b[39m\n\u001b[1;32m      9\u001b[0m pipointPath \u001b[38;5;241m=\u001b[39m \u001b[38;5;124m\"\u001b[39m\u001b[38;5;130;01m\\\\\u001b[39;00m\u001b[38;5;130;01m\\\\\u001b[39;00m\u001b[38;5;124m\"\u001b[39m \u001b[38;5;241m+\u001b[39m data[\u001b[38;5;124m'\u001b[39m\u001b[38;5;124mDataArchiveName\u001b[39m\u001b[38;5;124m'\u001b[39m] \u001b[38;5;241m+\u001b[39m \u001b[38;5;124m\"\u001b[39m\u001b[38;5;130;01m\\\\\u001b[39;00m\u001b[38;5;124m\"\u001b[39m \u001b[38;5;241m+\u001b[39m pipoint\n\u001b[0;32m---> 10\u001b[0m PIPointWebID \u001b[38;5;241m=\u001b[39m \u001b[43mgetPIPointWebID\u001b[49m\u001b[43m(\u001b[49m\u001b[43mpipointPath\u001b[49m\u001b[43m)\u001b[49m\n\u001b[1;32m     12\u001b[0m \u001b[38;5;66;03m#Use this ID to make subsequent Calls to PI Database for each PIPoint\u001b[39;00m\n\u001b[1;32m     13\u001b[0m \u001b[38;5;66;03m#print(PIPointWebID)\u001b[39;00m\n\u001b[1;32m     14\u001b[0m \n\u001b[1;32m     15\u001b[0m \u001b[38;5;66;03m#Get Last 1 day Data for PiPoint using previous WebID\u001b[39;00m\n\u001b[1;32m     16\u001b[0m PiPath \u001b[38;5;241m=\u001b[39m PIPointWebID \u001b[38;5;241m+\u001b[39m \u001b[38;5;124m\"\u001b[39m\u001b[38;5;124m/recorded?startTime=\u001b[39m\u001b[38;5;124m\"\u001b[39m \u001b[38;5;241m+\u001b[39m \u001b[38;5;124m\"\u001b[39m\u001b[38;5;124m*-5d\u001b[39m\u001b[38;5;124m\"\u001b[39m\n",
      "Cell \u001b[0;32mIn[2], line 97\u001b[0m, in \u001b[0;36mgetPIPointWebID\u001b[0;34m(pipoint)\u001b[0m\n\u001b[1;32m     95\u001b[0m getPIPointQuery \u001b[38;5;241m=\u001b[39m piwebapi_url \u001b[38;5;241m+\u001b[39m \u001b[38;5;124m\"\u001b[39m\u001b[38;5;124m/points?path=\u001b[39m\u001b[38;5;124m\"\u001b[39m \u001b[38;5;241m+\u001b[39m pipoint  \n\u001b[1;32m     96\u001b[0m PIPoint \u001b[38;5;241m=\u001b[39m json\u001b[38;5;241m.\u001b[39mloads(get(getPIPointQuery)\u001b[38;5;241m.\u001b[39mtext)\n\u001b[0;32m---> 97\u001b[0m \u001b[38;5;28;01mreturn\u001b[39;00m \u001b[43mPIPoint\u001b[49m\u001b[43m[\u001b[49m\u001b[38;5;124;43m'\u001b[39;49m\u001b[38;5;124;43mWebId\u001b[39;49m\u001b[38;5;124;43m'\u001b[39;49m\u001b[43m]\u001b[49m\n",
      "\u001b[0;31mKeyError\u001b[0m: 'WebId'"
     ]
    }
   ],
   "source": [
    "\n",
    "\n",
    "#Get PI Point WebID and last Day datapoints'\n",
    "\n",
    "#meter.10001002_E1.Current\n",
    "#meter.10001002_E1.Voltage\n",
    "#meter.10001002_E1.ActivePower\n",
    "#meter.10001002_E1.ReactivePower\n",
    "\n",
    "pipoint = \"meter.10001002_E1.Current\"\n",
    "pipointPath = \"\\\\\\\\\" + data['DataArchiveName'] + \"\\\\\" + pipoint\n",
    "PIPointWebID = getPIPointWebID(pipointPath)\n",
    "\n",
    "#Use this ID to make subsequent Calls to PI Database for each PIPoint\n",
    "#print(PIPointWebID)\n",
    "\n",
    "#Get Last 1 day Data for PiPoint using previous WebID\n",
    "PiPath = PIPointWebID + \"/recorded?startTime=\" + \"*-5d\"\n",
    "PI2 = getPIPointHistory(PiPath)\n",
    "PI2\n"
   ]
  },
  {
   "cell_type": "code",
   "execution_count": null,
   "id": "591f894f-1865-4dde-bcd4-f389a17e9a68",
   "metadata": {
    "editable": true,
    "scrolled": true,
    "slideshow": {
     "slide_type": ""
    },
    "tags": []
   },
   "outputs": [],
   "source": [
    "#Update Pi Point Timestamp and Value\n",
    "\n",
    "pipoint_imp = \"meter.10010827_E1.ImpedanceMaxCalc\"\n",
    "pipointPath = \"\\\\\\\\\" + data['DataArchiveName'] + \"\\\\\" + pipoint_imp\n",
    "PIPointWebID = getPIPointWebID(pipointPath)\n",
    "print(PIPointWebID)\n",
    "#body = {\"Timestamp\": \"2023-10-30T03:10:00Z\", \"Value\": 4.9, \"Good\": True}\n",
    "#t1 = postPIPointValue(PIPointWebID, body)\n",
    "#print(t1)\n",
    "#t1.headers['Location']\n"
   ]
  },
  {
   "cell_type": "code",
   "execution_count": null,
   "id": "64a6a253-4aa3-480d-8f76-312b8d7aa218",
   "metadata": {
    "editable": true,
    "slideshow": {
     "slide_type": ""
    },
    "tags": []
   },
   "outputs": [],
   "source": [
    "#Get PI Database WebID\n",
    "archivePath = \"\\\\\\\\PIServers\" + \"[\" + data['DataArchiveName'] + \"]\"\n",
    "PIdatabaseWebID = getPIDatabaseWebID(archivePath)\n",
    "#Use this ID to make subsequent Calls to PI Database\n",
    "print(PIdatabaseWebID)\n",
    "body = { \"Name\": \"PointName1\", \"Descriptor\": \"\" , \"PointClass\": \"classic\",  \"PointType\": \"Float32\", \"EngineeringUnits\": \"\", \"Step\": False, \"Future\": False, \"DisplayDigits\": -5 }\n",
    "t1 = postPIPointTag(PIdatabaseWebID, body)\n",
    "t1"
   ]
  },
  {
   "cell_type": "code",
   "execution_count": 13,
   "id": "ea7acfd1-5298-403c-9433-d78ffa0791d7",
   "metadata": {},
   "outputs": [
    {
     "ename": "ImportError",
     "evalue": "libodbc.so.2: cannot open shared object file: No such file or directory",
     "output_type": "error",
     "traceback": [
      "\u001b[0;31m---------------------------------------------------------------------------\u001b[0m",
      "\u001b[0;31mImportError\u001b[0m                               Traceback (most recent call last)",
      "Cell \u001b[0;32mIn[13], line 1\u001b[0m\n\u001b[0;32m----> 1\u001b[0m \u001b[38;5;28;01mimport\u001b[39;00m \u001b[38;5;21;01mpyodbc\u001b[39;00m \u001b[38;5;28;01mas\u001b[39;00m \u001b[38;5;21;01mpc\u001b[39;00m\n\u001b[1;32m      2\u001b[0m \u001b[38;5;28;01mimport\u001b[39;00m \u001b[38;5;21;01murllib\u001b[39;00m\n\u001b[1;32m      3\u001b[0m \u001b[38;5;28;01mimport\u001b[39;00m \u001b[38;5;21;01msqlalchemy\u001b[39;00m \u001b[38;5;28;01mas\u001b[39;00m \u001b[38;5;21;01msa\u001b[39;00m\n",
      "\u001b[0;31mImportError\u001b[0m: libodbc.so.2: cannot open shared object file: No such file or directory"
     ]
    }
   ],
   "source": [
    "import pyodbc as pc\n",
    "import urllib\n",
    "import sqlalchemy as sa"
   ]
  },
  {
   "cell_type": "code",
   "execution_count": 11,
   "id": "a1201008-26d3-486f-a25a-d1149fe530a3",
   "metadata": {},
   "outputs": [
    {
     "ename": "NameError",
     "evalue": "name 'urllib' is not defined",
     "output_type": "error",
     "traceback": [
      "\u001b[0;31m---------------------------------------------------------------------------\u001b[0m",
      "\u001b[0;31mNameError\u001b[0m                                 Traceback (most recent call last)",
      "Cell \u001b[0;32mIn[11], line 1\u001b[0m\n\u001b[0;32m----> 1\u001b[0m params \u001b[38;5;241m=\u001b[39m  \u001b[43murllib\u001b[49m\u001b[38;5;241m.\u001b[39mparse\u001b[38;5;241m.\u001b[39mquote_plus(\u001b[38;5;124m\"\u001b[39m\u001b[38;5;124mDriver=\u001b[39m\u001b[38;5;124m{\u001b[39m\u001b[38;5;124mSQL Server Native Client 11.0};\u001b[39m\u001b[38;5;124m\"\u001b[39m\n\u001b[1;32m      2\u001b[0m                                 \u001b[38;5;124m\"\u001b[39m\u001b[38;5;124mServer=DSO-DEV-SQL01;\u001b[39m\u001b[38;5;124m\"\u001b[39m\n\u001b[1;32m      3\u001b[0m                                 \u001b[38;5;66;03m#\"Database=db;\"\u001b[39;00m\n\u001b[1;32m      4\u001b[0m                                   \u001b[38;5;124m\"\u001b[39m\u001b[38;5;124mUID= dsosqladmin;\u001b[39m\u001b[38;5;124m\"\u001b[39m\n\u001b[1;32m      5\u001b[0m                                   \u001b[38;5;124m\"\u001b[39m\u001b[38;5;124mPWD=password;\u001b[39m\u001b[38;5;124m\"\u001b[39m\n\u001b[1;32m      6\u001b[0m                                 \u001b[38;5;124m\"\u001b[39m\u001b[38;5;124mTrusted_Connection=yes;\u001b[39m\u001b[38;5;124m\"\u001b[39m\n\u001b[1;32m      7\u001b[0m                                 )\n\u001b[1;32m      8\u001b[0m coxn \u001b[38;5;241m=\u001b[39m sa\u001b[38;5;241m.\u001b[39mcreate_engine(\u001b[38;5;124m'\u001b[39m\u001b[38;5;124mmssql+pyodbc:///?odbc_connect=\u001b[39m\u001b[38;5;132;01m{}\u001b[39;00m\u001b[38;5;124m'\u001b[39m\u001b[38;5;241m.\u001b[39mformat(params),fast_executemany\u001b[38;5;241m=\u001b[39m\u001b[38;5;28;01mTrue\u001b[39;00m)\n",
      "\u001b[0;31mNameError\u001b[0m: name 'urllib' is not defined"
     ]
    }
   ],
   "source": [
    "params =  urllib.parse.quote_plus(\"Driver={SQL Server Native Client 11.0};\"\n",
    "                                \"Server=DSO-DEV-SQL01;\"\n",
    "                                #\"Database=db;\"\n",
    "                                  \"UID= dsosqladmin;\"\n",
    "                                  \"PWD=Letmein123!;\"\n",
    "                                \"Trusted_Connection=yes;\"\n",
    "                                )\n",
    "coxn = sa.create_engine('mssql+pyodbc:///?odbc_connect={}'.format(params),fast_executemany=True)"
   ]
  },
  {
   "cell_type": "code",
   "execution_count": null,
   "id": "2255f9b4-9ac6-46ec-9ad6-fd2737c04411",
   "metadata": {},
   "outputs": [],
   "source": []
  }
 ],
 "metadata": {
  "kernelspec": {
   "display_name": "Python 3 (ipykernel)",
   "language": "python",
   "name": "python3"
  },
  "language_info": {
   "codemirror_mode": {
    "name": "ipython",
    "version": 3
   },
   "file_extension": ".py",
   "mimetype": "text/x-python",
   "name": "python",
   "nbconvert_exporter": "python",
   "pygments_lexer": "ipython3",
   "version": "3.11.6"
  }
 },
 "nbformat": 4,
 "nbformat_minor": 5
}
